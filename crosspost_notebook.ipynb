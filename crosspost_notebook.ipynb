{
  "cells": [
    {
      "cell_type": "code",
      "execution_count": 22,
      "metadata": {
        "id": "4swu1ncf8CH0"
      },
      "outputs": [],
      "source": [
        "#@title Enter stuff here (get the twitter stuff from the API console)\n",
        "\n",
        "message = \"\" #@param {type:\"string\"}\n",
        "\n",
        "consumer_key = \"\" #@param {type:\"string\"}\n",
        "consumer_secret = \"\" #@param {type:\"string\"}\n",
        "\n",
        "bisky_username = \"\" #@param {type:\"string\"}\n",
        "bisky_password = \"\" #@param {type:\"string\"}\n"
      ]
    },
    {
      "cell_type": "code",
      "execution_count": null,
      "metadata": {
        "id": "Btv57mXaRapI"
      },
      "outputs": [],
      "source": [
        "!pip install atprototools\n",
        "import os,json\n",
        "from typing import Dict\n",
        "from atprototools import Session\n",
        "from requests_oauthlib import OAuth1Session\n",
        "\n",
        "\n",
        "def fetch_oauth_tokens(consumer_key: str, consumer_secret: str) -> Dict[str, str]:\n",
        "    request_token_url = \"https://api.twitter.com/oauth/request_token?oauth_callback=oob&x_auth_access_type=write\"\n",
        "    oauth = OAuth1Session(consumer_key, client_secret=consumer_secret)\n",
        "\n",
        "    try:\n",
        "        fetch_response = oauth.fetch_request_token(request_token_url)\n",
        "    except ValueError:\n",
        "        print(\"There may have been an issue with the consumer_key or consumer_secret you entered.\")\n",
        "\n",
        "    resource_owner_key = fetch_response.get(\"oauth_token\")\n",
        "    resource_owner_secret = fetch_response.get(\"oauth_token_secret\")\n",
        "    print(f\"Got OAuth token: {resource_owner_key}\")\n",
        "\n",
        "    base_authorization_url = \"https://api.twitter.com/oauth/authorize\"\n",
        "    authorization_url = oauth.authorization_url(base_authorization_url)\n",
        "    print(f\"Please go here and authorize: {authorization_url}\")\n",
        "    verifier = input(\"Paste the PIN here: \")\n",
        "\n",
        "    access_token_url = \"https://api.twitter.com/oauth/access_token\"\n",
        "    oauth = OAuth1Session(\n",
        "        consumer_key,\n",
        "        client_secret=consumer_secret,\n",
        "        resource_owner_key=resource_owner_key,\n",
        "        resource_owner_secret=resource_owner_secret,\n",
        "        verifier=verifier,\n",
        "    )\n",
        "\n",
        "    \n",
        "    with open('twitoauth.json', 'w', encoding='utf-8') as f:\n",
        "      json.dump(oauth.fetch_access_token(access_token_url), f, ensure_ascii=False, indent=4)\n",
        "\n",
        "def skeet_and_tweet(consumer_key: str, consumer_secret: str, access_token: str, access_token_secret: str,  bisky_username: str, bisky_password: str, payload: Dict[str, str]) -> None:\n",
        "    oauth = OAuth1Session(\n",
        "        consumer_key,\n",
        "        client_secret=consumer_secret,\n",
        "        resource_owner_key=access_token,\n",
        "        resource_owner_secret=access_token_secret,\n",
        "    )\n",
        "\n",
        "    response = oauth.post(\"https://api.twitter.com/2/tweets\", json=payload)\n",
        "\n",
        "    if response.status_code != 201:\n",
        "        raise Exception(f\"Request returned an error: {response.status_code} {response.text}\")\n",
        "\n",
        "    Session(bisky_username, bisky_password).post_skoot(payload['text'])\n",
        "\n",
        "\n",
        "if not (os.path.isfile(\"twitoauth.json\")):\n",
        "    fetch_oauth_tokens(consumer_key, consumer_secret)\n",
        "\n",
        "with open('twitoauth.json', 'r', encoding='utf-8') as f:\n",
        "    oauth_tokens = json.load(f)\n",
        "\n",
        "access_token: str = oauth_tokens[\"oauth_token\"]\n",
        "access_token_secret: str = oauth_tokens[\"oauth_token_secret\"]\n",
        "\n",
        "skeet_and_tweet(consumer_key, consumer_secret, access_token, access_token_secret, bisky_username, bisky_password, {\"text\": message})\n",
        "\n"
      ]
    },
    {
      "cell_type": "code",
      "execution_count": null,
      "metadata": {},
      "outputs": [],
      "source": []
    }
  ],
  "metadata": {
    "colab": {
      "provenance": []
    },
    "kernelspec": {
      "display_name": "Python 3",
      "name": "python3"
    },
    "language_info": {
      "name": "python"
    }
  },
  "nbformat": 4,
  "nbformat_minor": 0
}
